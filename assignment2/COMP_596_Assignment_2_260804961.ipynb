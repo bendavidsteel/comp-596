{
  "nbformat": 4,
  "nbformat_minor": 0,
  "metadata": {
    "colab": {
      "name": "COMP-596-Assignment-2-260804961.ipynb",
      "provenance": [],
      "collapsed_sections": []
    },
    "kernelspec": {
      "name": "python3",
      "display_name": "Python 3"
    }
  },
  "cells": [
    {
      "cell_type": "markdown",
      "metadata": {
        "id": "jpPo-0zjUGkA"
      },
      "source": [
        "# Problem 1\n",
        "\n",
        "\n",
        "---\n",
        "\n"
      ]
    },
    {
      "cell_type": "markdown",
      "metadata": {
        "id": "EORfPYZbhqyf"
      },
      "source": [
        "\n",
        "Write regular expressions that match the output strings in the given set of input strings. \n",
        "\n",
        "\n",
        "#### Problem 1.1\n",
        "Input: \n",
        "```\n",
        "xyxyxyx\n",
        "xxyx\n",
        "xxyyxx\n",
        "xyx\n",
        "xxyxyxyx\n",
        "```\n",
        "\n",
        "Output:\n",
        "```\n",
        "xxyx\n",
        "xxyxyxyx\n",
        "```\n",
        "\n",
        "Note: Do not use the regular expression which resembles `(word1|word2)`. This defeats the purpose of the regular expression."
      ]
    },
    {
      "cell_type": "code",
      "metadata": {
        "id": "s3fasx98SqmM",
        "colab": {
          "base_uri": "https://localhost:8080/"
        },
        "outputId": "1c844405-9192-426a-b355-9f5f2c568224"
      },
      "source": [
        "import re\n",
        "\n",
        "words = [\"xyxyxyx\", \"xxyx\", \"xxyyxx\", \"xyx\", \"xxyxyxyx\"]\n",
        "pattern = re.compile(\"^xxyx\")\n",
        "for word in words:\n",
        "  if pattern.match(word):\n",
        "    print(word)"
      ],
      "execution_count": 2,
      "outputs": [
        {
          "output_type": "stream",
          "name": "stdout",
          "text": [
            "xxyx\n",
            "xxyxyxyx\n"
          ]
        }
      ]
    },
    {
      "cell_type": "markdown",
      "metadata": {
        "id": "alK7uvOIV0bn"
      },
      "source": [
        "#### Problem 1.2\n",
        "Input: \n",
        "```\n",
        "xyz\n",
        "xz\n",
        "xyyy\n",
        "yyz\n",
        "```\n",
        "\n",
        "Output:\n",
        "```\n",
        "xyz\n",
        "xyyy\n",
        "```"
      ]
    },
    {
      "cell_type": "code",
      "metadata": {
        "id": "iX-nXRtzWkKr",
        "colab": {
          "base_uri": "https://localhost:8080/"
        },
        "outputId": "d3754a24-cd48-4c71-b2e0-dfa3ad14411f"
      },
      "source": [
        "# write code\n",
        "words = [\"xyz\", \"xz\", \"xyyy\", \"yyz\"]\n",
        "pattern = re.compile(\"^xy\")\n",
        "for word in words:\n",
        "  if pattern.match(word):\n",
        "    print(word)"
      ],
      "execution_count": null,
      "outputs": [
        {
          "output_type": "stream",
          "name": "stdout",
          "text": [
            "xyz\n",
            "xyyy\n"
          ]
        }
      ]
    },
    {
      "cell_type": "markdown",
      "metadata": {
        "id": "YvPLBmtpWvv6"
      },
      "source": [
        "#### Problem 1.3\n",
        "\n",
        "Input: \n",
        "```\n",
        "xyz\n",
        "xyyyyyyyy\n",
        "xzz\n",
        "xyzyzyzyz\n",
        "xz\n",
        "xzzyyyyzyzzzz\n",
        " ```\n",
        "\n",
        "Output:\n",
        "```\n",
        "xyz\n",
        "xyyyyyyyy\n",
        "xyzyzyzyz\n",
        "```\n",
        "\n",
        "Note: Use positive strings to define the regular expression."
      ]
    },
    {
      "cell_type": "code",
      "metadata": {
        "id": "O91H-AuRZZGg",
        "colab": {
          "base_uri": "https://localhost:8080/"
        },
        "outputId": "fa800dcb-6810-4117-94ca-b308359eaa2c"
      },
      "source": [
        "# write code\n",
        "words = [\"xyz\", \"xyyyyyyyy\", \"xzz\", \"xyzyzyzyz\", \"xz\", \"xzzyyyyzyzzzz\"]\n",
        "pattern = re.compile(\"xy.+\")\n",
        "for word in words:\n",
        "  if pattern.match(word):\n",
        "    print(word)"
      ],
      "execution_count": null,
      "outputs": [
        {
          "output_type": "stream",
          "name": "stdout",
          "text": [
            "xyz\n",
            "xyyyyyyyy\n",
            "xyzyzyzyz\n"
          ]
        }
      ]
    },
    {
      "cell_type": "markdown",
      "metadata": {
        "id": "Sl29e2t8Zfnh"
      },
      "source": [
        "#### Problem 1.4\n",
        "\n",
        "Input:\n",
        "```\n",
        "x. y\n",
        "x?  Y\n",
        "x! y\n",
        "x y\n",
        "x.  Y\n",
        "x Y\n",
        "```\n",
        "\n",
        "Ouput:\n",
        "```\n",
        "x. y\n",
        "x?  Y\n",
        "x! y\n",
        "x.  Y\n",
        "```\n"
      ]
    },
    {
      "cell_type": "code",
      "metadata": {
        "id": "X1pJaNywZedv",
        "colab": {
          "base_uri": "https://localhost:8080/"
        },
        "outputId": "d27e0dfa-d8c7-4cc4-cffd-a8c3b270cd79"
      },
      "source": [
        "# write code\n",
        "# write code\n",
        "words = [\"x. y\", \"x?  Y\", \"x! y\", \"x y\", \"x.  Y\", \"x Y\"]\n",
        "pattern = re.compile(\"^x[\\.!?]\")\n",
        "for word in words:\n",
        "  if pattern.match(word):\n",
        "    print(word)"
      ],
      "execution_count": null,
      "outputs": [
        {
          "output_type": "stream",
          "name": "stdout",
          "text": [
            "x. y\n",
            "x?  Y\n",
            "x! y\n",
            "x.  Y\n"
          ]
        }
      ]
    },
    {
      "cell_type": "markdown",
      "metadata": {
        "id": "lWCIT3K_wYPH"
      },
      "source": [
        "#### Problem 1.5\n",
        "\n",
        "Input:\n",
        "\n",
        "```\n",
        "<html class=\"client-nojs\" lang=\"en\" dir=\"ltr\">\n",
        "<table class=\"infobox biota\" style=\"text-align: left; width: 200px; font-size: 100%\">\n",
        "```\n",
        "\n",
        "Output:\n",
        "```\n",
        "tags:\n",
        "html\n",
        "table\n",
        "\n",
        "keys:\n",
        "class\n",
        "lang\n",
        "dir\n",
        "style\n",
        "\n",
        "values:\n",
        "client-nojs; infobox biota\n",
        "en\n",
        "ltr\n",
        "text-align: left; width: 200px; font-size: 100%\n",
        "```\n",
        "\n",
        "Note: Your code must either use the function [group()](https://docs.python.org/3/library/re.html#re.Match.group) or the concept of groups in [findall()](https://docs.python.org/3/library/re.html#re.findall) to find tags, keys and values. Do not write separate regular expression for each input line. The code has to make use of the same regular expression for each line."
      ]
    },
    {
      "cell_type": "code",
      "metadata": {
        "id": "X0FT9S_Jvnbc",
        "colab": {
          "base_uri": "https://localhost:8080/"
        },
        "outputId": "52933eaa-0af2-48c8-d793-d27ec52e4d75"
      },
      "source": [
        "input_lines = ['<html class=\"client-nojs\" lang=\"en\" dir=\"ltr\">', '<table class=\"infobox biota\" style=\"text-align: left; width: 200px; font-size: 100%\">']\n",
        "\n",
        "tags = []\n",
        "keys_values = []\n",
        "for input_line in input_lines:\n",
        "    objs = re.findall(r'(?:<(\\w+)| (\\w+)=\"([^\"]+)\")', input_line)\n",
        "    \n",
        "    for obj in objs:\n",
        "        if obj[1] == '' and obj[2] == '':\n",
        "            tags.append(obj[0])\n",
        "        else:\n",
        "            keys_values.append((obj[1], obj[2]))\n",
        "print(keys_values)\n",
        "print('tags:')\n",
        "for tag in tags:\n",
        "    print(tag)\n",
        "\n",
        "d = {}\n",
        "for pair in keys_values:\n",
        "    if pair[0] in d:\n",
        "        d[pair[0]].append(pair[1])\n",
        "    else:\n",
        "        d[pair[0]] = [pair[1]]\n",
        "\n",
        "print(\"\")\n",
        "print('keys:')\n",
        "for key in d.keys():\n",
        "    print(key)\n",
        "\n",
        "print(\"\")\n",
        "print(\"values:\")\n",
        "for values in d.values():\n",
        "    print(\"; \".join(values))"
      ],
      "execution_count": 29,
      "outputs": [
        {
          "output_type": "stream",
          "name": "stdout",
          "text": [
            "[('class', 'client-nojs'), ('lang', 'en'), ('dir', 'ltr'), ('class', 'infobox biota'), ('style', 'text-align: left; width: 200px; font-size: 100%')]\n",
            "tags:\n",
            "html\n",
            "table\n",
            "\n",
            "keys:\n",
            "class\n",
            "lang\n",
            "dir\n",
            "style\n",
            "\n",
            "values:\n",
            "client-nojs; infobox biota\n",
            "en\n",
            "ltr\n",
            "text-align: left; width: 200px; font-size: 100%\n"
          ]
        }
      ]
    },
    {
      "cell_type": "markdown",
      "metadata": {
        "id": "0SehLKyuQM4Q"
      },
      "source": [
        "\n",
        "\n",
        "## Problem 2 and 3\n",
        "\n",
        "See https://docs.google.com/document/d/1h4JoDFDeZpuD7msH0_1jgIz8EvjPMbB7pL_5qTksFY8/edit?usp=sharing\n",
        "\n"
      ]
    }
  ]
}
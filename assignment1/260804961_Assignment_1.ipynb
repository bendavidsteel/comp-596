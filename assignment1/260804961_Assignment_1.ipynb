{
  "nbformat": 4,
  "nbformat_minor": 0,
  "metadata": {
    "colab": {
      "name": "260804961-Assignment-1.ipynb",
      "provenance": [],
      "collapsed_sections": []
    },
    "kernelspec": {
      "name": "python3",
      "display_name": "Python 3"
    }
  },
  "cells": [
    {
      "cell_type": "markdown",
      "metadata": {
        "id": "2FuO82RTBftK"
      },
      "source": [
        "Go to https://drive.google.com/drive/folders/1Pe6D713L9S0GWwb_XzeLXAeNZOrBqZaN?usp=sharing and click add shortcut to drive. This will add the data required for this assignment to your Google drive.\n",
        "\n",
        "<img src=\"https://drive.google.com/uc?id=1LqHisiziX8Ri94Xs6Cv8mhx6vivFM3kS\" alt=\"Drawing\" height=\"300\"/>\n",
        "\n",
        "Caution: Since this is real language on Twitter and deals with world events, some of it could be disturbing. In the later section of the course, we will deal with ethics and what is appropriate and what is not. \n",
        "\n",
        "First, let's read the tweets from the Google drive and print a few lines from the file.\n",
        "\n"
      ]
    },
    {
      "cell_type": "markdown",
      "metadata": {
        "id": "UtZEcHthBeXz"
      },
      "source": [
        "Run the below code snippet. It will generate a URL which generates an authorization code. Enter it below to give Colab access to your Google drive. \n",
        "\n",
        "**Note:** Copy button may not work. Try copying the authorization code manually."
      ]
    },
    {
      "cell_type": "code",
      "metadata": {
        "id": "KW-dce7oJlyr",
        "colab": {
          "base_uri": "https://localhost:8080/"
        },
        "outputId": "a417b03e-1285-41bb-c3d2-eb9504b2ad00"
      },
      "source": [
        "from google.colab import drive\n",
        "drive.mount('/content/drive/')"
      ],
      "execution_count": 2,
      "outputs": [
        {
          "output_type": "stream",
          "name": "stdout",
          "text": [
            "Mounted at /content/drive/\n"
          ]
        }
      ]
    },
    {
      "cell_type": "markdown",
      "metadata": {
        "id": "Ni2pYuuQKaHY"
      },
      "source": [
        "When you run the `ls` command below, you should see the files in the tweets folder.\n",
        "\n",
        "\n"
      ]
    },
    {
      "cell_type": "code",
      "metadata": {
        "id": "zYENtyc7SOxA",
        "colab": {
          "base_uri": "https://localhost:8080/"
        },
        "outputId": "eb7ce0cf-e70a-45bb-fbf9-1bba64c8bf2d"
      },
      "source": [
        "!ls \"/content/drive/My Drive/projects/phd/courses/596/tweets\""
      ],
      "execution_count": 3,
      "outputs": [
        {
          "output_type": "stream",
          "name": "stdout",
          "text": [
            "20000_tweets.jsonl\n",
            "20000_tweets.txt\n",
            "covid-tweets-2020-08-10-2020-08-21.tokenized.txt\n",
            "covid-tweets-2020-08-10-2020-08-21.trigrams.txt\n",
            "GoogleNews-vectors-negative300.bin.gz\n",
            "stop_words.txt\n"
          ]
        }
      ]
    },
    {
      "cell_type": "markdown",
      "metadata": {
        "id": "vEvB8AMiqeNh"
      },
      "source": [
        "Let's read the top 10 tweets from the file `20000_tweets.txt` and print them."
      ]
    },
    {
      "cell_type": "code",
      "metadata": {
        "id": "gZMOmElPSPHk",
        "colab": {
          "base_uri": "https://localhost:8080/"
        },
        "outputId": "b53b4557-0a55-41f4-d7f7-c5ae3a7e0163"
      },
      "source": [
        "f = open(\"/content/drive/My Drive/projects/phd/courses/596/tweets/20000_tweets.txt\", \"r\")\n",
        "\n",
        "line_count = 0\n",
        "top_tweets = []\n",
        "for tweet in f:\n",
        "  print(\"### Tweet\", line_count, \"#####\")\n",
        "  print(tweet)\n",
        "  \n",
        "  top_tweets.append(tweet)\n",
        "  line_count += 1\n",
        "  if line_count >= 10:\n",
        "    break\n",
        "f.close()"
      ],
      "execution_count": 4,
      "outputs": [
        {
          "output_type": "stream",
          "name": "stdout",
          "text": [
            "### Tweet 0 #####\n",
            "Covid-19 Economic Response: Cancel Student Loans by Executive Order. - Sign the Petition! https://t.co/BnPXWHv5cr via @Change\n",
            "\n",
            "### Tweet 1 #####\n",
            "Hey! The stock markets up! Fuck Trump and the Trumpublican Senate! https://t.co/4t6mgbaG2C\n",
            "\n",
            "### Tweet 2 #####\n",
            "@ProjectLincoln blame Trump for no sports because of Covid19 @MeidasTouch\n",
            "\n",
            "### Tweet 3 #####\n",
            "Do u guys think that reopening of the dinning in the restaurants of Lahore will bring any change in our lives? Nothing is going to change I think cause many people have learned cooking, painting and many new stuff during lockdown and I think we all will continue those things 1/2\n",
            "\n",
            "### Tweet 4 #####\n",
            "@NBCSAthletics Ya just knew the season wouldn’t go by without some bench clearing brawls... Covid or not. Behaviors can’t be changed because of rules, sadly\n",
            "\n",
            "### Tweet 5 #####\n",
            "You’re comparing apples and oranges. The NCAA has a lot more to balance than the NFL. https://t.co/oeMsbgeem7\n",
            "\n",
            "### Tweet 6 #####\n",
            "THANK YOU @POTUS Absolutely NO MONEY/NO BAILOUTS for Irresponsibly Run Democrat Cities...#NoBailouts https://t.co/bWLELcCutV\n",
            "\n",
            "### Tweet 7 #####\n",
            "#Texas #USA #NorthAmerica Cases: 509,539 (+21) Death: 8,583 Recovered: 344,845 Critical: 1,754 New %: 0.3% Death %: 1.7% Population %: 1.8% #CoronaVirus #Covid19 #SarsCov2 #Forecast https://t.co/yHbd9gl1uz https://t.co/sRulRFOeUx\n",
            "\n",
            "### Tweet 8 #####\n",
            "New Zealand celebrated their 100th day without COVID today. A society that works together for the common good: that's what actual freedom looks like. https://t.co/7qppin3QRM\n",
            "\n",
            "### Tweet 9 #####\n",
            "It’s going to be screen time all the time for kindergartners and graduate students alike. Teachers are threatening strikes. And students are already coming home infected with the coronavirus, which has upended American education. https://t.co/O3eT06wmrU\n",
            "\n"
          ]
        }
      ]
    },
    {
      "cell_type": "markdown",
      "metadata": {
        "id": "7r-IHJ3KU27N"
      },
      "source": [
        "# **Problem 1: Word Tokenizer**\n",
        "\n",
        "Implement your own tokenizer for tweets without using libraries like `nltk`, `spacy` or any existing tokenizers. Tokenizer is a fundamental tool for processing any text data. The tokenizer should preserve punctuations.\n",
        "\n",
        "The outputs for the top five tweets should approximately be as follows (it's fine to not exactly match this output)\n",
        "\n",
        "```\n",
        "['Covid-19', 'Economic', 'Response', ':', 'Cancel', 'Student', 'Loans', 'by', 'Executive', 'Order', '.', '-', 'Sign', 'the', 'Petition', '!', 'https://t.co/BnPXWHv5cr', 'via', '@Change']\n",
        "['Hey', '!', 'The', 'stock', 'markets', 'up', '!', 'Fuck', 'Trump', 'and', 'the', 'Trumpublican', 'Senate', '!', 'https://t.co/4t6mgbaG2C']\n",
        "['@ProjectLincoln', 'blame', 'Trump', 'for', 'no', 'sports', 'because', 'of', 'Covid19', '@MeidasTouch']\n",
        "['Do', 'u', 'guys', 'think', 'that', 'reopening', 'of', 'the', 'dinning', 'in', 'the', 'restaurants', 'of', 'Lahore', 'will', 'bring', 'any', 'change', 'in', 'our', 'lives', '?', 'Nothing', 'is', 'going', 'to', 'change', 'I', 'think', 'cause', 'many', 'people', 'have', 'learned', 'cooking', ',', 'painting', 'and', 'many', 'new', 'stuff', 'during', 'lockdown', 'and', 'I', 'think', 'we', 'all', 'will', 'continue', 'those', 'things', '1/2']\n",
        "['@NBCSAthletics', 'Ya', 'just', 'knew', 'the', 'season', 'would', 'n’t', 'go', 'by', 'without', 'some', 'bench', 'clearing', 'brawls', '...', 'Covid', 'or', 'not', '.', 'Behaviors', 'ca', 'n’t', 'be', 'changed', 'because', 'of', 'rules', ',', 'sadly']\n",
        "```\n",
        "\n",
        "A thing to note is that words like `wouldn't` and `you'll` become two tokens `would n't` and `you 'll`, after tokenization. Treating `'nt` and  `'ll` as independent tokens is common in NLP tools. You can come up with that kind of list easily, e.g., `'s, 've`.\n"
      ]
    },
    {
      "cell_type": "code",
      "metadata": {
        "id": "0Y-oKzw7OHOX",
        "colab": {
          "base_uri": "https://localhost:8080/"
        },
        "outputId": "0f2da9a9-8703-4e66-ce86-340d4257b6db"
      },
      "source": [
        "# import any relevant libraries here\n",
        "import re\n",
        "\n",
        "# a function to tokenize text into words\n",
        "def tokenize(text):\n",
        "    # FILL ME\n",
        "\n",
        "    # names with two words to keep as a single token\n",
        "    names = [ \"New Zealand\" ]\n",
        "    # single words that should be split into two tokens\n",
        "    concats = [ \"n't\", \"'ll\", \"'s\", \"'ve\", \"'re\", \"n’t\", \"’ll\", \"’s\", \"’ve\", \"’re\" ]\n",
        "    # punctuation after word that should be split out\n",
        "    ending_puncs = [ \"!\", \"?\", \",\", \"...\", \".\", \":\", \";\" ]\n",
        "    # punctuation in middle of chars that should result in split\n",
        "    middle_puncs_search_regexes = [ \"[a-zA-Z]+/[a-zA-Z]+\", \".+\\.\\.\\..+\" ]\n",
        "    middle_puncs_split_regexes = [ \"(/)\", \"(\\.\\.\\.)\" ]\n",
        "\n",
        "    # strip trailing whitespace and newlines\n",
        "    text = text.rstrip()\n",
        "\n",
        "    # text we have left to tokenize\n",
        "    text_left = text\n",
        "\n",
        "    # tokens created from this text\n",
        "    words = []\n",
        "\n",
        "    # iterate until we have no more raw text to tokenize\n",
        "    while len(text_left) != 0:\n",
        "\n",
        "        # flag to move onto next iteration of processing\n",
        "        next_iter = False\n",
        "\n",
        "        # first strip leading whitespace\n",
        "        text_left = text_left.lstrip()\n",
        "\n",
        "        # second check for proper names containing spaces\n",
        "        for name in names:\n",
        "            if text_left.startswith(name):\n",
        "                words.append(name) # add name as token\n",
        "                text_left = text_left[len(name):] # cut out processed token from unprocessed text\n",
        "                next_iter = True # indicate to move on to next processing iteration\n",
        "                break\n",
        "\n",
        "        # check if we should move on to next iteration\n",
        "        if next_iter:\n",
        "            continue\n",
        "\n",
        "        # now can safely just refine to looking at characters up to next space\n",
        "        match = re.match(\"[^ ]+ \", text_left)\n",
        "        \n",
        "        if match:\n",
        "            # if there's a match, strip the trailing whitespace off\n",
        "            no_space_text = match.group().rstrip()\n",
        "            text_left = text_left[len(no_space_text):]\n",
        "        else:\n",
        "            # if there's no match, it means we reached the last word of the remaining text\n",
        "            no_space_text = text_left\n",
        "            text_left = \"\"\n",
        "        \n",
        "        # look for urls\n",
        "        match = re.match(\"https://[a-zA-Z0-9]+\\.[a-zA-Z]{2,3}/.*\", no_space_text)\n",
        "\n",
        "        if match:\n",
        "            # word we're looking at is a URL, don't split on non-alphanumeric chars\n",
        "            words.append(match.group())\n",
        "            continue\n",
        "\n",
        "        # from this point there could be multiple tokens in no_space_text\n",
        "\n",
        "        # check for ending punctuation which we need to split off\n",
        "        for ending_punc in ending_puncs:\n",
        "            if no_space_text.endswith(ending_punc):\n",
        "                word_and_punc = [ no_space_text[:-len(ending_punc)], ending_punc ]\n",
        "                break\n",
        "        else:\n",
        "            word_and_punc = [ no_space_text ]\n",
        "\n",
        "        # check for middle punctuation that means we need to break up word\n",
        "        divided_words = []\n",
        "        for idx in range(len(middle_puncs_search_regexes)):\n",
        "            m = re.search(middle_puncs_search_regexes[idx], word_and_punc[0])\n",
        "            if m is not None:\n",
        "                divided_words = re.split(middle_puncs_split_regexes[idx], word_and_punc[0])\n",
        "                break\n",
        "        else:\n",
        "            divided_words = [ word_and_punc[0] ]\n",
        "\n",
        "        # add ending punc back on\n",
        "        if len(word_and_punc) == 2:\n",
        "            divided_words.append(word_and_punc[1])\n",
        "\n",
        "        # now lets check for concatenated words\n",
        "        new_words = []\n",
        "        for word in divided_words:\n",
        "            for concat in concats:\n",
        "                if word.endswith(concat):\n",
        "                    # add correctly split words to tokens\n",
        "                    new_words.append(word[:-len(concat)])\n",
        "                    new_words.append(concat)\n",
        "                    break\n",
        "            else:\n",
        "                new_words.append(word)\n",
        "\n",
        "        # add words to all tokens\n",
        "        words += new_words\n",
        "\n",
        "    return words\n",
        "\n",
        "tokenized_top_tweets = [tokenize(tweet) for tweet in top_tweets]\n",
        "for tokenized_tweet in tokenized_top_tweets:\n",
        "  print(tokenized_tweet)"
      ],
      "execution_count": 25,
      "outputs": [
        {
          "output_type": "stream",
          "name": "stdout",
          "text": [
            "['Covid-19', 'Economic', 'Response', ':', 'Cancel', 'Student', 'Loans', 'by', 'Executive', 'Order', '.', '-', 'Sign', 'the', 'Petition', '!', 'https://t.co/BnPXWHv5cr', 'via', '@Change']\n",
            "['Hey', '!', 'The', 'stock', 'markets', 'up', '!', 'Fuck', 'Trump', 'and', 'the', 'Trumpublican', 'Senate', '!', 'https://t.co/4t6mgbaG2C']\n",
            "['@ProjectLincoln', 'blame', 'Trump', 'for', 'no', 'sports', 'because', 'of', 'Covid19', '@MeidasTouch']\n",
            "['Do', 'u', 'guys', 'think', 'that', 'reopening', 'of', 'the', 'dinning', 'in', 'the', 'restaurants', 'of', 'Lahore', 'will', 'bring', 'any', 'change', 'in', 'our', 'lives', '?', 'Nothing', 'is', 'going', 'to', 'change', 'I', 'think', 'cause', 'many', 'people', 'have', 'learned', 'cooking', ',', 'painting', 'and', 'many', 'new', 'stuff', 'during', 'lockdown', 'and', 'I', 'think', 'we', 'all', 'will', 'continue', 'those', 'things', '1/2']\n",
            "['@NBCSAthletics', 'Ya', 'just', 'knew', 'the', 'season', 'would', 'n’t', 'go', 'by', 'without', 'some', 'bench', 'clearing', 'brawls', '...', 'Covid', 'or', 'not', '.', 'Behaviors', 'ca', 'n’t', 'be', 'changed', 'because', 'of', 'rules', ',', 'sadly']\n",
            "['You', '’re', 'comparing', 'apples', 'and', 'oranges', '.', 'The', 'NCAA', 'has', 'a', 'lot', 'more', 'to', 'balance', 'than', 'the', 'NFL', '.', 'https://t.co/oeMsbgeem7']\n",
            "['THANK', 'YOU', '@POTUS', 'Absolutely', 'NO', 'MONEY', '/', 'NO', 'BAILOUTS', 'for', 'Irresponsibly', 'Run', 'Democrat', 'Cities', '...', '#NoBailouts', 'https://t.co/bWLELcCutV']\n",
            "['#Texas', '#USA', '#NorthAmerica', 'Cases', ':', '509,539', '(+21)', 'Death', ':', '8,583', 'Recovered', ':', '344,845', 'Critical', ':', '1,754', 'New', '%', ':', '0.3%', 'Death', '%', ':', '1.7%', 'Population', '%', ':', '1.8%', '#CoronaVirus', '#Covid19', '#SarsCov2', '#Forecast', 'https://t.co/yHbd9gl1uz', 'https://t.co/sRulRFOeUx']\n",
            "['New Zealand', 'celebrated', 'their', '100th', 'day', 'without', 'COVID', 'today', '.', 'A', 'society', 'that', 'works', 'together', 'for', 'the', 'common', 'good', ':', 'that', \"'s\", 'what', 'actual', 'freedom', 'looks', 'like', '.', 'https://t.co/7qppin3QRM']\n",
            "['It', '’s', 'going', 'to', 'be', 'screen', 'time', 'all', 'the', 'time', 'for', 'kindergartners', 'and', 'graduate', 'students', 'alike', '.', 'Teachers', 'are', 'threatening', 'strikes', '.', 'And', 'students', 'are', 'already', 'coming', 'home', 'infected', 'with', 'the', 'coronavirus', ',', 'which', 'has', 'upended', 'American', 'education', '.', 'https://t.co/O3eT06wmrU']\n"
          ]
        }
      ]
    },
    {
      "cell_type": "markdown",
      "metadata": {
        "id": "KEmNfrQqKoMY"
      },
      "source": [
        "# Problem 2: Post-process the tokenized tweets\n",
        "\n",
        "Clean the tokenized tweets such that usernames are repalced with `@USER`, URLs are replaced with `URL`, punctuations are removed and words are lower-cased.\n",
        "\n",
        "The output for the top ten tweets after cleaning should look something like this\n",
        "\n",
        "```\n",
        "['covid-19', 'economic', 'response', 'cancel', 'student', 'loans', 'by', 'executive', 'order', 'sign', 'the', 'petition', 'URL', 'via', '@USER']\n",
        "['hey', 'the', 'stock', 'markets', 'up', 'fuck', 'trump', 'and', 'the', 'trumpublican', 'senate', 'URL']\n",
        "['@USER', 'blame', 'trump', 'for', 'no', 'sports', 'because', 'of', 'covid19', '@USER']\n",
        "['do', 'u', 'guys', 'think', 'that', 'reopening', 'of', 'the', 'dinning', 'in', 'the', 'restaurants', 'of', 'lahore', 'will', 'bring', 'any', 'change', 'in', 'our', 'lives', 'nothing', 'is', 'going', 'to', 'change', 'i', 'think', 'cause', 'many', 'people', 'have', 'learned', 'cooking', 'painting', 'and', 'many', 'new', 'stuff', 'during', 'lockdown', 'and', 'i', 'think', 'we', 'all', 'will', 'continue', 'those', 'things', '1/2']\n",
        "['@USER', 'ya', 'just', 'knew', 'the', 'season', 'would', 'n’t', 'go', 'by', 'without', 'some', 'bench', 'clearing', 'brawls', 'covid', 'or', 'not', 'behaviors', 'ca', 'n’t', 'be', 'changed', 'because', 'of', 'rules', 'sadly']\n",
        "```"
      ]
    },
    {
      "cell_type": "markdown",
      "metadata": {
        "id": "jN_QSZ6paBpR"
      },
      "source": [
        ""
      ]
    },
    {
      "cell_type": "code",
      "metadata": {
        "id": "EMWFqI9KbDnY",
        "colab": {
          "base_uri": "https://localhost:8080/"
        },
        "outputId": "f940c5c0-f70b-4e0f-c05e-c306069cda05"
      },
      "source": [
        "# import relevant packages\n",
        "\n",
        "# function to clean a tweet\n",
        "def clean_a_tweet(tokenized_tweet):\n",
        "  \n",
        "    clean_tokenized_tweet = []\n",
        "\n",
        "    for token in tokenized_tweet:\n",
        "        # deal with users\n",
        "        if token.startswith(\"@\"):\n",
        "            clean_tokenized_tweet.append(\"@USER\")\n",
        "        # deal with URLS\n",
        "        elif re.match(\"https://[a-zA-Z0-9]+\\.[a-zA-Z]{2,3}/.*\", token) is not None:\n",
        "            clean_tokenized_tweet.append(\"URL\")\n",
        "        # deal with punctuation\n",
        "        elif token in [\"/\", \"...\", \"?\", \"!\", \".\", \",\", \":\", \";\", \"-\", \"%\"]:\n",
        "            continue\n",
        "        # otherwise just lowercase the word\n",
        "        else:\n",
        "            clean_tokenized_tweet.append(token.lower())\n",
        "\n",
        "\n",
        "    return(clean_tokenized_tweet)\n",
        "\n",
        "anonymized_top_tweets = [clean_a_tweet(tokenized_tweet) for tokenized_tweet in tokenized_top_tweets]\n",
        "for tokenized_tweet in anonymized_top_tweets:\n",
        "  print(tokenized_tweet)"
      ],
      "execution_count": 31,
      "outputs": [
        {
          "output_type": "stream",
          "name": "stdout",
          "text": [
            "['covid-19', 'economic', 'response', 'cancel', 'student', 'loans', 'by', 'executive', 'order', 'sign', 'the', 'petition', 'URL', 'via', '@USER']\n",
            "['hey', 'the', 'stock', 'markets', 'up', 'fuck', 'trump', 'and', 'the', 'trumpublican', 'senate', 'URL']\n",
            "['@USER', 'blame', 'trump', 'for', 'no', 'sports', 'because', 'of', 'covid19', '@USER']\n",
            "['do', 'u', 'guys', 'think', 'that', 'reopening', 'of', 'the', 'dinning', 'in', 'the', 'restaurants', 'of', 'lahore', 'will', 'bring', 'any', 'change', 'in', 'our', 'lives', 'nothing', 'is', 'going', 'to', 'change', 'i', 'think', 'cause', 'many', 'people', 'have', 'learned', 'cooking', 'painting', 'and', 'many', 'new', 'stuff', 'during', 'lockdown', 'and', 'i', 'think', 'we', 'all', 'will', 'continue', 'those', 'things', '1/2']\n",
            "['@USER', 'ya', 'just', 'knew', 'the', 'season', 'would', 'n’t', 'go', 'by', 'without', 'some', 'bench', 'clearing', 'brawls', 'covid', 'or', 'not', 'behaviors', 'ca', 'n’t', 'be', 'changed', 'because', 'of', 'rules', 'sadly']\n",
            "['you', '’re', 'comparing', 'apples', 'and', 'oranges', 'the', 'ncaa', 'has', 'a', 'lot', 'more', 'to', 'balance', 'than', 'the', 'nfl', 'URL']\n",
            "['thank', 'you', '@USER', 'absolutely', 'no', 'money', 'no', 'bailouts', 'for', 'irresponsibly', 'run', 'democrat', 'cities', '#nobailouts', 'URL']\n",
            "['#texas', '#usa', '#northamerica', 'cases', '509,539', '(+21)', 'death', '8,583', 'recovered', '344,845', 'critical', '1,754', 'new', '0.3%', 'death', '1.7%', 'population', '1.8%', '#coronavirus', '#covid19', '#sarscov2', '#forecast', 'URL', 'URL']\n",
            "['new zealand', 'celebrated', 'their', '100th', 'day', 'without', 'covid', 'today', 'a', 'society', 'that', 'works', 'together', 'for', 'the', 'common', 'good', 'that', \"'s\", 'what', 'actual', 'freedom', 'looks', 'like', 'URL']\n",
            "['it', '’s', 'going', 'to', 'be', 'screen', 'time', 'all', 'the', 'time', 'for', 'kindergartners', 'and', 'graduate', 'students', 'alike', 'teachers', 'are', 'threatening', 'strikes', 'and', 'students', 'are', 'already', 'coming', 'home', 'infected', 'with', 'the', 'coronavirus', 'which', 'has', 'upended', 'american', 'education', 'URL']\n"
          ]
        }
      ]
    },
    {
      "cell_type": "markdown",
      "metadata": {
        "id": "JVkL6n6jU1LU"
      },
      "source": [
        "# Problem 3: Unigrams and Bigrams\n",
        "\n",
        "Read **all** tweets from the file `20000_tweets.txt` and print the top 10 unigrams and bigrams. Consider only the English tweets. You have to use `tokenize` and `clean_a_tweet` function.\n",
        "\n",
        "Output format\n",
        "\n",
        "```\n",
        "Top 10 Unigrams\n",
        "@USER\t16698\n",
        "the\t16666\n",
        "URL\t12610\n",
        "to\t11866\n",
        "a\t9845\n",
        "....\n",
        "....\n",
        "....\n",
        "....\n",
        "....\n",
        "\n",
        "Top 10 Bigrams\n",
        "@USER @USER\t7494\n",
        "in the\t1280\n",
        "of the\t1265\n",
        "it ’s\t860\n",
        "a mask\t793\n",
        "....\n",
        "....\n",
        "....\n",
        "....\n",
        "....\n",
        "```\n",
        "\n",
        "Your numbers need not match the above word frequencies. Depending on your tokenizer, you may get different numbers"
      ]
    },
    {
      "cell_type": "code",
      "metadata": {
        "id": "DQs6Th7AlTtb",
        "colab": {
          "base_uri": "https://localhost:8080/"
        },
        "outputId": "75563a8e-9bd3-4329-8de7-c87bfbdde1e8"
      },
      "source": [
        "# Write your code to build top 10 unigrams and bigrams\n",
        "# Hint: You can use python dictionary or collections.Counter().\n",
        "\n",
        "from collections import Counter\n",
        "\n",
        "unigrams = Counter()\n",
        "bigrams = Counter()\n",
        "\n",
        "with open(\"/content/drive/My Drive/projects/phd/courses/596/tweets/20000_tweets.txt\", \"r\") as f:\n",
        "\n",
        "    tweets = []\n",
        "    for tweet in f:\n",
        "        tokens = tokenize(tweet)\n",
        "        clean_tokens = clean_a_tweet(tokens)\n",
        "        # build up unigram count\n",
        "        unigrams.update(clean_tokens)\n",
        "\n",
        "        # build up bigram count\n",
        "        for idx in range(len(clean_tokens) - 1):\n",
        "            bigram = ( clean_tokens[idx], clean_tokens[idx + 1] )\n",
        "            bigrams[bigram] += 1\n",
        "\n",
        "# sort unigrams and bigrams\n",
        "top_unigrams = unigrams.most_common(10)\n",
        "top_bigrams = bigrams.most_common(10)\n",
        "\n",
        "print(\"Top 10 Unigrams\")\n",
        "for top_unigram in top_unigrams:\n",
        "    print(f\"{top_unigram[0]}    {top_unigram[1]}\")\n",
        "\n",
        "print(\"\")\n",
        "print(\"Top 10 Bigrams\")\n",
        "for top_bigram in top_bigrams:\n",
        "    print(f\"{top_bigram[0][0]} {top_bigram[0][1]}    {top_bigram[1]}\")\n"
      ],
      "execution_count": 34,
      "outputs": [
        {
          "output_type": "stream",
          "name": "stdout",
          "text": [
            "Top 10 Unigrams\n",
            "@USER    16678\n",
            "the    16537\n",
            "URL    12576\n",
            "to    11837\n",
            "a    9775\n",
            "and    8463\n",
            "of    7804\n",
            "is    6445\n",
            "in    6260\n",
            "i    5497\n",
            "\n",
            "Top 10 Bigrams\n",
            "@USER @USER    7489\n",
            "in the    1273\n",
            "of the    1262\n",
            "it ’s    837\n",
            "a mask    749\n",
            "this is    722\n",
            "the pandemic    696\n",
            "wear a    688\n",
            "URL URL    682\n",
            "to be    660\n"
          ]
        }
      ]
    },
    {
      "cell_type": "markdown",
      "metadata": {
        "id": "2Q-FpH2k7akG"
      },
      "source": [
        "# Problem 4: How frequent are the following unigrams and bigrams?\n",
        "\n",
        "```\n",
        "covid\n",
        "coronavirus\n",
        "republicans\n",
        "democrats\n",
        "social distancing\n",
        "wear mask\n",
        "no mask\n",
        "donald trump\n",
        "joe biden\n",
        "```\n",
        "\n",
        "Output:\n",
        "```\n",
        "covid\t4437\n",
        "coronavirus\t1368\n",
        "...\n",
        "...\n",
        "social distancing\t568\n",
        "wear mask\t19\n",
        "...\n",
        "...\n",
        "...\n",
        "```\n"
      ]
    },
    {
      "cell_type": "code",
      "metadata": {
        "id": "11Jcaf1T9mHU",
        "colab": {
          "base_uri": "https://localhost:8080/"
        },
        "outputId": "6202772e-6f33-4b99-8f80-f8fc34e97a89"
      },
      "source": [
        "# Write your code to print the frequencies of the above unigrams and bigrams\n",
        "# Hint: reuse the dictionaries you built in the previous cell\n",
        "\n",
        "unigrams_of_interest = [ \"covid\", \"coronavirus\", \"republicans\", \"democrats\" ]\n",
        "bigrams_of_interest = [ ( \"social\", \"distancing\" ), ( \"wear\", \"mask\" ), ( \"no\", \"mask\" ), ( \"donald\", \"trump\" ), ( \"joe\", \"biden\" ) ]\n",
        "\n",
        "for unigram_of_interest in unigrams_of_interest:\n",
        "    print(f\"{unigram_of_interest}   {unigrams[unigram_of_interest]}\")\n",
        "\n",
        "for bigram_of_interest in bigrams_of_interest:\n",
        "    print(f\"{bigram_of_interest[0]} {bigram_of_interest[1]}    {bigrams[bigram_of_interest]}\")"
      ],
      "execution_count": 36,
      "outputs": [
        {
          "output_type": "stream",
          "name": "stdout",
          "text": [
            "covid   4188\n",
            "coronavirus   1327\n",
            "republicans   56\n",
            "democrats   158\n",
            "social distancing    532\n",
            "wear mask    19\n",
            "no mask    19\n",
            "donald trump    61\n",
            "joe biden    19\n"
          ]
        }
      ]
    }
  ]
}